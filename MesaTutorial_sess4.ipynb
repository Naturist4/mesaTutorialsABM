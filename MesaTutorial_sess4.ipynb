{
  "nbformat": 4,
  "nbformat_minor": 0,
  "metadata": {
    "colab": {
      "provenance": [],
      "collapsed_sections": [
        "cYEUeOlISRg5",
        "E2RtBvZfTi-e",
        "CT6BJKTCUqRc"
      ]
    },
    "kernelspec": {
      "name": "python3",
      "display_name": "Python 3"
    },
    "language_info": {
      "name": "python"
    }
  },
  "cells": [
    {
      "cell_type": "markdown",
      "source": [
        "# Import Dependencies"
      ],
      "metadata": {
        "id": "cYEUeOlISRg5"
      }
    },
    {
      "cell_type": "code",
      "execution_count": 32,
      "metadata": {
        "colab": {
          "base_uri": "https://localhost:8080/"
        },
        "collapsed": true,
        "id": "fbGF117lR8uw",
        "outputId": "c94f9ca4-67ba-46d9-e073-4abe5f216bad"
      },
      "outputs": [
        {
          "output_type": "stream",
          "name": "stdout",
          "text": [
            "Requirement already satisfied: mesa==1.1 in /usr/local/lib/python3.11/dist-packages (1.1.0)\n",
            "Requirement already satisfied: click in /usr/local/lib/python3.11/dist-packages (from mesa==1.1) (8.1.8)\n",
            "Requirement already satisfied: cookiecutter in /usr/local/lib/python3.11/dist-packages (from mesa==1.1) (2.6.0)\n",
            "Requirement already satisfied: networkx in /usr/local/lib/python3.11/dist-packages (from mesa==1.1) (3.4.2)\n",
            "Requirement already satisfied: numpy in /usr/local/lib/python3.11/dist-packages (from mesa==1.1) (2.0.2)\n",
            "Requirement already satisfied: pandas in /usr/local/lib/python3.11/dist-packages (from mesa==1.1) (2.2.2)\n",
            "Requirement already satisfied: tornado in /usr/local/lib/python3.11/dist-packages (from mesa==1.1) (6.4.2)\n",
            "Requirement already satisfied: tqdm in /usr/local/lib/python3.11/dist-packages (from mesa==1.1) (4.67.1)\n",
            "Requirement already satisfied: binaryornot>=0.4.4 in /usr/local/lib/python3.11/dist-packages (from cookiecutter->mesa==1.1) (0.4.4)\n",
            "Requirement already satisfied: Jinja2<4.0.0,>=2.7 in /usr/local/lib/python3.11/dist-packages (from cookiecutter->mesa==1.1) (3.1.6)\n",
            "Requirement already satisfied: pyyaml>=5.3.1 in /usr/local/lib/python3.11/dist-packages (from cookiecutter->mesa==1.1) (6.0.2)\n",
            "Requirement already satisfied: python-slugify>=4.0.0 in /usr/local/lib/python3.11/dist-packages (from cookiecutter->mesa==1.1) (8.0.4)\n",
            "Requirement already satisfied: requests>=2.23.0 in /usr/local/lib/python3.11/dist-packages (from cookiecutter->mesa==1.1) (2.32.3)\n",
            "Requirement already satisfied: arrow in /usr/local/lib/python3.11/dist-packages (from cookiecutter->mesa==1.1) (1.3.0)\n",
            "Requirement already satisfied: rich in /usr/local/lib/python3.11/dist-packages (from cookiecutter->mesa==1.1) (13.9.4)\n",
            "Requirement already satisfied: python-dateutil>=2.8.2 in /usr/local/lib/python3.11/dist-packages (from pandas->mesa==1.1) (2.9.0.post0)\n",
            "Requirement already satisfied: pytz>=2020.1 in /usr/local/lib/python3.11/dist-packages (from pandas->mesa==1.1) (2025.2)\n",
            "Requirement already satisfied: tzdata>=2022.7 in /usr/local/lib/python3.11/dist-packages (from pandas->mesa==1.1) (2025.2)\n",
            "Requirement already satisfied: chardet>=3.0.2 in /usr/local/lib/python3.11/dist-packages (from binaryornot>=0.4.4->cookiecutter->mesa==1.1) (5.2.0)\n",
            "Requirement already satisfied: MarkupSafe>=2.0 in /usr/local/lib/python3.11/dist-packages (from Jinja2<4.0.0,>=2.7->cookiecutter->mesa==1.1) (3.0.2)\n",
            "Requirement already satisfied: six>=1.5 in /usr/local/lib/python3.11/dist-packages (from python-dateutil>=2.8.2->pandas->mesa==1.1) (1.17.0)\n",
            "Requirement already satisfied: text-unidecode>=1.3 in /usr/local/lib/python3.11/dist-packages (from python-slugify>=4.0.0->cookiecutter->mesa==1.1) (1.3)\n",
            "Requirement already satisfied: charset-normalizer<4,>=2 in /usr/local/lib/python3.11/dist-packages (from requests>=2.23.0->cookiecutter->mesa==1.1) (3.4.1)\n",
            "Requirement already satisfied: idna<4,>=2.5 in /usr/local/lib/python3.11/dist-packages (from requests>=2.23.0->cookiecutter->mesa==1.1) (3.10)\n",
            "Requirement already satisfied: urllib3<3,>=1.21.1 in /usr/local/lib/python3.11/dist-packages (from requests>=2.23.0->cookiecutter->mesa==1.1) (2.4.0)\n",
            "Requirement already satisfied: certifi>=2017.4.17 in /usr/local/lib/python3.11/dist-packages (from requests>=2.23.0->cookiecutter->mesa==1.1) (2025.4.26)\n",
            "Requirement already satisfied: types-python-dateutil>=2.8.10 in /usr/local/lib/python3.11/dist-packages (from arrow->cookiecutter->mesa==1.1) (2.9.0.20241206)\n",
            "Requirement already satisfied: markdown-it-py>=2.2.0 in /usr/local/lib/python3.11/dist-packages (from rich->cookiecutter->mesa==1.1) (3.0.0)\n",
            "Requirement already satisfied: pygments<3.0.0,>=2.13.0 in /usr/local/lib/python3.11/dist-packages (from rich->cookiecutter->mesa==1.1) (2.19.1)\n",
            "Requirement already satisfied: mdurl~=0.1 in /usr/local/lib/python3.11/dist-packages (from markdown-it-py>=2.2.0->rich->cookiecutter->mesa==1.1) (0.1.2)\n"
          ]
        }
      ],
      "source": [
        "!pip install mesa==1.1"
      ]
    },
    {
      "cell_type": "code",
      "source": [
        "import mesa\n",
        "import numpy as np\n",
        "import matplotlib.pyplot as plt\n",
        "%matplotlib inline"
      ],
      "metadata": {
        "id": "5kE64cwSS8xo"
      },
      "execution_count": 33,
      "outputs": []
    },
    {
      "cell_type": "code",
      "source": [
        "print(\"MESA version:\", mesa.__version__)"
      ],
      "metadata": {
        "colab": {
          "base_uri": "https://localhost:8080/"
        },
        "id": "Id9QaPmuTC8-",
        "outputId": "4f26262e-2361-4da0-a551-12a4ecb201b4"
      },
      "execution_count": 34,
      "outputs": [
        {
          "output_type": "stream",
          "name": "stdout",
          "text": [
            "MESA version: 1.1.0\n"
          ]
        }
      ]
    },
    {
      "cell_type": "markdown",
      "source": [
        "# Resource Classes"
      ],
      "metadata": {
        "id": "E2RtBvZfTi-e"
      }
    },
    {
      "cell_type": "code",
      "source": [
        "class Sugar(mesa.Agent):\n",
        "  '''\n",
        "  Sugar:\n",
        "  - contains amount of sugar\n",
        "  - grows one amount of sugar at each turn (iteration)\n",
        "  '''\n",
        "  def __init__(self):\n",
        "    print(\"I am sugar\")"
      ],
      "metadata": {
        "id": "eajBXRYWTnIF"
      },
      "execution_count": 35,
      "outputs": []
    },
    {
      "cell_type": "code",
      "source": [
        "class Spice(mesa.Agent):\n",
        "  '''\n",
        "  Spice:\n",
        "  - contains amount of spice\n",
        "  - grows one amount of spice at each turn\n",
        "  '''\n",
        "  def __init__(self):\n",
        "    print(\"I am Spice\")"
      ],
      "metadata": {
        "id": "sfEqygy5UW6j"
      },
      "execution_count": null,
      "outputs": []
    },
    {
      "cell_type": "markdown",
      "source": [
        "# Trader Class"
      ],
      "metadata": {
        "id": "CT6BJKTCUqRc"
      }
    },
    {
      "cell_type": "code",
      "source": [
        "class Trader(mesa.Agent):\n",
        "  '''\n",
        "  Trader:\n",
        "  - has a metabolism for sugar and spice\n",
        "  - harvest and trade Sugar and Spice to survive and thrive\n",
        "  '''\n",
        "  def __init__(self):\n",
        "    print(\"I am Trader\")"
      ],
      "metadata": {
        "id": "7JxlAZX0Uu2V"
      },
      "execution_count": null,
      "outputs": []
    },
    {
      "cell_type": "markdown",
      "source": [
        "# Model Class"
      ],
      "metadata": {
        "id": "pntX1e0nVGqf"
      }
    },
    {
      "cell_type": "code",
      "source": [
        "class SugarscapeG1mt(mesa.Model):\n",
        "  '''\n",
        "  A model class to manage Sugarscape with Traders (G1mt).\n",
        "  from Growing Artificial Societies by Axtell and Epstein (1996)\n",
        "  '''\n",
        "\n",
        "#  def __init__(self):\n",
        "#    self.spice = Spice()\n",
        "#    self.sugar = Sugar()\n",
        "#    self.trader = Trader()\n",
        "\n",
        "  def __init__(self, width=50,height=50):\n",
        "    '''\n",
        "    to initialize the landscape we are going to start with setting up size of\n",
        "    landscape on cartesian coordinates. the 'self', 'width=50', etc are\n",
        "    attributes defined according to \"class\" in python, refer to OOP in python.\n",
        "    '''\n",
        "\n",
        "    # Initiate width and height of sugarscape\n",
        "    self.width= width\n",
        "    self.height= height\n",
        "\n",
        "    # Initiate mesa grid class\n",
        "    self.grid = mesa.space.MultiGrid(self.width, self.height, torus=False)\n",
        "\n",
        "    # read in landscape file from supplementary material\n",
        "    sugar_distribution = np.genfromtxt(\"MesaABM/sugar-map.txt\")\n",
        "#   print(sugar_distribution.shape)\n",
        "#   print(sugar_distribution[30][15])\n",
        "\n",
        "    spice_distribution = np.flip(sugar_distribution, 1)\n",
        "#    plt.imshow(sugar_distribution, origin=\"lower\")\n",
        "    plt.imshow(spice_distribution, origin=\"lower\")"
      ],
      "metadata": {
        "id": "YqFw4TAsVI4A"
      },
      "execution_count": null,
      "outputs": []
    },
    {
      "cell_type": "markdown",
      "source": [
        "# Run Sugarscape"
      ],
      "metadata": {
        "id": "TK7SuIdUgSHH"
      }
    },
    {
      "cell_type": "code",
      "source": [
        "model = SugarscapeG1mt()"
      ],
      "metadata": {
        "colab": {
          "base_uri": "https://localhost:8080/",
          "height": 430
        },
        "id": "XADIEmzoV_MF",
        "outputId": "53f7f3b7-a2ed-4f42-fec0-6efc95c36a0b"
      },
      "execution_count": null,
      "outputs": [
        {
          "output_type": "display_data",
          "data": {
            "text/plain": [
              "<Figure size 640x480 with 1 Axes>"
            ],
            "image/png": "[encoded data removed]"
          },
          "metadata": {}
        }
      ]
    },
    {
      "cell_type": "markdown",
      "source": [],
      "metadata": {
        "id": "GKJ739zVfyT2"
      }
    }
  ]
}